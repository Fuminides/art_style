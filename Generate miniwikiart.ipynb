{
 "cells": [
  {
   "cell_type": "code",
   "execution_count": 8,
   "id": "96f7f6e7-2821-4f19-a947-4ea1c75b3da8",
   "metadata": {},
   "outputs": [],
   "source": [
    "import os\n",
    "os.chdir('C:/Users/javier.fumanal/Downloads/')"
   ]
  },
  {
   "cell_type": "code",
   "execution_count": 9,
   "id": "89a2d4b4-f1b0-4998-b5fe-4488c0a0941f",
   "metadata": {},
   "outputs": [
    {
     "data": {
      "text/html": [
       "<div>\n",
       "<style scoped>\n",
       "    .dataframe tbody tr th:only-of-type {\n",
       "        vertical-align: middle;\n",
       "    }\n",
       "\n",
       "    .dataframe tbody tr th {\n",
       "        vertical-align: top;\n",
       "    }\n",
       "\n",
       "    .dataframe thead th {\n",
       "        text-align: right;\n",
       "    }\n",
       "</style>\n",
       "<table border=\"1\" class=\"dataframe\">\n",
       "  <thead>\n",
       "    <tr style=\"text-align: right;\">\n",
       "      <th></th>\n",
       "      <th>0</th>\n",
       "      <th>1</th>\n",
       "    </tr>\n",
       "  </thead>\n",
       "  <tbody>\n",
       "    <tr>\n",
       "      <th>0</th>\n",
       "      <td>Impressionism/edgar-degas_landscape-on-the-orn...</td>\n",
       "      <td>12</td>\n",
       "    </tr>\n",
       "    <tr>\n",
       "      <th>1</th>\n",
       "      <td>Realism/camille-corot_mantes-cathedral.jpg</td>\n",
       "      <td>21</td>\n",
       "    </tr>\n",
       "    <tr>\n",
       "      <th>2</th>\n",
       "      <td>Abstract_Expressionism/gene-davis_untitled-197...</td>\n",
       "      <td>0</td>\n",
       "    </tr>\n",
       "    <tr>\n",
       "      <th>3</th>\n",
       "      <td>Symbolism/kuzma-petrov-vodkin_in-the-1920.jpg</td>\n",
       "      <td>24</td>\n",
       "    </tr>\n",
       "    <tr>\n",
       "      <th>4</th>\n",
       "      <td>Impressionism/maurice-prendergast_paris-boulev...</td>\n",
       "      <td>12</td>\n",
       "    </tr>\n",
       "  </tbody>\n",
       "</table>\n",
       "</div>"
      ],
      "text/plain": [
       "                                                   0   1\n",
       "0  Impressionism/edgar-degas_landscape-on-the-orn...  12\n",
       "1         Realism/camille-corot_mantes-cathedral.jpg  21\n",
       "2  Abstract_Expressionism/gene-davis_untitled-197...   0\n",
       "3      Symbolism/kuzma-petrov-vodkin_in-the-1920.jpg  24\n",
       "4  Impressionism/maurice-prendergast_paris-boulev...  12"
      ]
     },
     "execution_count": 9,
     "metadata": {},
     "output_type": "execute_result"
    }
   ],
   "source": [
    "import pandas as pd\n",
    "train_full_wikiart = pd.read_csv('style_train.csv', header=None)\n",
    "val_full_wikiart = pd.read_csv('style_val.csv', header=None)"
   ]
  },
  {
   "cell_type": "code",
   "execution_count": 10,
   "id": "59a88cdf-c59c-49c9-812a-43f09b431710",
   "metadata": {},
   "outputs": [],
   "source": [
    "train_mini_wikiart = train_full_wikiart.sample(n=1000)\n",
    "val_mini_wikiart = val_full_wikiart.sample(n=1000)\n",
    "train_mini_wikiart.to_csv('mini_style_train.csv')\n",
    "val_mini_wikiart.to_csv('mini_style_val.csv')"
   ]
  },
  {
   "cell_type": "code",
   "execution_count": null,
   "id": "41128b0d-4473-4ba5-a3e0-5d253c0718c4",
   "metadata": {},
   "outputs": [],
   "source": [
    "import shutil\n",
    "\n",
    "def create_mini_wikiart(df_files, old_dataset_path, new_dataset_path):\n",
    "    for index, row in df_files.iterrows():\n",
    "        file = row[0]\n",
    "        label = row[1]\n",
    "        folder, painting = file.split('/')\n",
    "        \n",
    "        old_file_path = old_dataset_path + file\n",
    "        new_file_path = new_dataset_path + folder\n",
    "        \n",
    "        if not os.path.exists(new_file_path):\n",
    "            os.makedirs(directory)\n",
    "            \n",
    "        shutil.copy(old_file_path, new_file_path)\n",
    "\n",
    "wikiart_path = ''\n",
    "wikiart_mini_path = \"\"\n",
    "\n",
    "create_mini_wikiart(train_mini_wikiart, wikiart_path, wikiart_mini_path)\n",
    "create_mini_wikiart(val_mini_wikiart, wikiart_path, wikiart_mini_path)\n"
   ]
  }
 ],
 "metadata": {
  "kernelspec": {
   "display_name": "Python 3 (ipykernel)",
   "language": "python",
   "name": "python3"
  },
  "language_info": {
   "codemirror_mode": {
    "name": "ipython",
    "version": 3
   },
   "file_extension": ".py",
   "mimetype": "text/x-python",
   "name": "python",
   "nbconvert_exporter": "python",
   "pygments_lexer": "ipython3",
   "version": "3.9.13"
  }
 },
 "nbformat": 4,
 "nbformat_minor": 5
}
