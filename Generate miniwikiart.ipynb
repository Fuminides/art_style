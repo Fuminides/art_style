{
 "cells": [
  {
   "cell_type": "code",
   "execution_count": 1,
   "id": "96f7f6e7-2821-4f19-a947-4ea1c75b3da8",
   "metadata": {},
   "outputs": [],
   "source": [
    "import os\n",
    "os.chdir('/home/javierfumanal/Downloads/wikiart/')"
   ]
  },
  {
   "cell_type": "code",
   "execution_count": 2,
   "id": "89a2d4b4-f1b0-4998-b5fe-4488c0a0941f",
   "metadata": {},
   "outputs": [],
   "source": [
    "import pandas as pd\n",
    "train_full_wikiart = pd.read_csv('style_train.csv', header=None)\n",
    "val_full_wikiart = pd.read_csv('style_val.csv', header=None)"
   ]
  },
  {
   "cell_type": "code",
   "execution_count": 3,
   "id": "59a88cdf-c59c-49c9-812a-43f09b431710",
   "metadata": {},
   "outputs": [],
   "source": [
    "train_mini_wikiart = train_full_wikiart.sample(n=1000)\n",
    "val_mini_wikiart = val_full_wikiart.sample(n=1000)\n",
    "train_mini_wikiart.to_csv('../miniwikiart/mini_style_train.csv')\n",
    "val_mini_wikiart.to_csv('../miniwikiart/mini_style_val.csv')"
   ]
  },
  {
   "cell_type": "code",
   "execution_count": 5,
   "id": "41128b0d-4473-4ba5-a3e0-5d253c0718c4",
   "metadata": {},
   "outputs": [],
   "source": [
    "import shutil\n",
    "\n",
    "def create_mini_wikiart(df_files, old_dataset_path, new_dataset_path):\n",
    "    for index, row in df_files.iterrows():\n",
    "        file = row[0]\n",
    "        label = row[1]\n",
    "        folder, painting = file.split('/')\n",
    "        \n",
    "        old_file_path = old_dataset_path + file\n",
    "        new_file_path = new_dataset_path + folder\n",
    "        \n",
    "        if not os.path.exists(new_file_path):\n",
    "            os.makedirs(new_dataset_path + folder)\n",
    "            \n",
    "        shutil.copy(old_file_path, new_file_path)\n",
    "\n",
    "wikiart_path = '/home/javierfumanal/Downloads/wikiart/'\n",
    "wikiart_mini_path = \"/home/javierfumanal/Downloads/miniwikiart/\"\n",
    "\n",
    "create_mini_wikiart(train_mini_wikiart, wikiart_path, wikiart_mini_path)\n",
    "create_mini_wikiart(val_mini_wikiart, wikiart_path, wikiart_mini_path)\n"
   ]
  }
 ],
 "metadata": {
  "kernelspec": {
   "display_name": "Python 3 (ipykernel)",
   "language": "python",
   "name": "python3"
  },
  "language_info": {
   "codemirror_mode": {
    "name": "ipython",
    "version": 3
   },
   "file_extension": ".py",
   "mimetype": "text/x-python",
   "name": "python",
   "nbconvert_exporter": "python",
   "pygments_lexer": "ipython3",
   "version": "3.9.7"
  }
 },
 "nbformat": 4,
 "nbformat_minor": 5
}
